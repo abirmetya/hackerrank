{
 "cells": [
  {
   "cell_type": "markdown",
   "metadata": {},
   "source": [
    "## Bubble Sort"
   ]
  },
  {
   "cell_type": "markdown",
   "metadata": {},
   "source": [
    "Bubble Sort is the simplest sorting algorithm that works by repeatedly swapping the adjacent elements if they are in the wrong order. "
   ]
  },
  {
   "cell_type": "markdown",
   "metadata": {},
   "source": [
    "#### Python Program for Bubble Sort\n",
    "The provided Python code implements the Bubble Sort algorithm, which sorts an array by repeatedly comparing adjacent elements and swapping them if they are in the wrong order. The algorithm iterates through the array multiple times, with each pass pushing the largest unsorted element to its correct position at the end. The code includes an optimization: if no swaps are made during a pass, the array is already sorted, and the sorting process stops. The example initializes an array, applies the bubbleSort function to sort it, and prints the sorted array. After sorting, the output is: [11, 12, 22, 25, 34, 64, 90], indicating ascending order."
   ]
  },
  {
   "cell_type": "code",
   "execution_count": 66,
   "metadata": {},
   "outputs": [],
   "source": [
    "def buble_sort(arr):\n",
    "    # swaped = False\n",
    "    for i in range(0,len(arr)-1):\n",
    "        print(i)\n",
    "        swaped = False  # this swaped function optimizes the code. It will reduce the time significantly. If the whole pass \n",
    "                        # doesnot requires a single swapping then it can be say that the array is now already sorted. Hence, \n",
    "                        # can come out of the loop.\n",
    "        for j in range(0,len(arr)-i-1):\n",
    "            if (arr[j] > arr[j+1]):\n",
    "                swaped = True\n",
    "                arr[j],arr[j+1] = arr[j+1] , arr[j]\n",
    "        if not swaped:  ## if not condition is opposite of if condition. This portion runs only when the condition failed.\n",
    "            return"
   ]
  },
  {
   "cell_type": "code",
   "execution_count": 67,
   "metadata": {},
   "outputs": [
    {
     "name": "stdout",
     "output_type": "stream",
     "text": [
      "0\n",
      "1\n"
     ]
    }
   ],
   "source": [
    "# arr = [64, 34, 25, 12, 22, 11, 90, 110, 120, 130, 140, 150, 160, 170, 180, 190, 191, 192, 200, 210, 300, 310, 320]\n",
    "arr = [64, 34, 90, 110, 120, 130, 140, 150, 160, 170, 180, 190, 191, 192, 200, 210, 300, 310, 320]\n",
    "\n",
    "buble_sort(arr)"
   ]
  },
  {
   "cell_type": "code",
   "execution_count": 65,
   "metadata": {},
   "outputs": [
    {
     "data": {
      "text/plain": [
       "[34,\n",
       " 64,\n",
       " 90,\n",
       " 110,\n",
       " 120,\n",
       " 130,\n",
       " 140,\n",
       " 150,\n",
       " 160,\n",
       " 170,\n",
       " 180,\n",
       " 190,\n",
       " 191,\n",
       " 192,\n",
       " 200,\n",
       " 210,\n",
       " 300,\n",
       " 310,\n",
       " 320]"
      ]
     },
     "execution_count": 65,
     "metadata": {},
     "output_type": "execute_result"
    }
   ],
   "source": [
    "arr"
   ]
  },
  {
   "cell_type": "code",
   "execution_count": null,
   "metadata": {},
   "outputs": [],
   "source": []
  }
 ],
 "metadata": {
  "kernelspec": {
   "display_name": "ai_ml",
   "language": "python",
   "name": "python3"
  },
  "language_info": {
   "codemirror_mode": {
    "name": "ipython",
    "version": 3
   },
   "file_extension": ".py",
   "mimetype": "text/x-python",
   "name": "python",
   "nbconvert_exporter": "python",
   "pygments_lexer": "ipython3",
   "version": "3.7.9"
  }
 },
 "nbformat": 4,
 "nbformat_minor": 2
}
